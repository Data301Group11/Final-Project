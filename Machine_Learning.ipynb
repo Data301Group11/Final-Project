{
  "nbformat": 4,
  "nbformat_minor": 0,
  "metadata": {
    "colab": {
      "name": "Machine Learning",
      "provenance": [],
      "collapsed_sections": []
    },
    "kernelspec": {
      "name": "python3",
      "display_name": "Python 3"
    }
  },
  "cells": [
    {
      "cell_type": "code",
      "metadata": {
        "id": "YjkVRuXp5y70"
      },
      "source": [
        "import pandas as pd\r\n",
        "import numpy as np"
      ],
      "execution_count": null,
      "outputs": []
    },
    {
      "cell_type": "code",
      "metadata": {
        "colab": {
          "base_uri": "https://localhost:8080/",
          "height": 499
        },
        "id": "e8BrlKUB6Sg_",
        "outputId": "91f2ff02-5dde-4dac-e1c1-87a687042a57"
      },
      "source": [
        "df_master = pd.read_csv('master_df_301_fp3.csv')\r\n",
        "df_master.head()"
      ],
      "execution_count": null,
      "outputs": [
        {
          "output_type": "execute_result",
          "data": {
            "text/html": [
              "<div>\n",
              "<style scoped>\n",
              "    .dataframe tbody tr th:only-of-type {\n",
              "        vertical-align: middle;\n",
              "    }\n",
              "\n",
              "    .dataframe tbody tr th {\n",
              "        vertical-align: top;\n",
              "    }\n",
              "\n",
              "    .dataframe thead th {\n",
              "        text-align: right;\n",
              "    }\n",
              "</style>\n",
              "<table border=\"1\" class=\"dataframe\">\n",
              "  <thead>\n",
              "    <tr style=\"text-align: right;\">\n",
              "      <th></th>\n",
              "      <th>project_name</th>\n",
              "      <th>url</th>\n",
              "      <th>project_id</th>\n",
              "      <th>sdtc</th>\n",
              "      <th>mcpc</th>\n",
              "      <th>mcve</th>\n",
              "      <th>star_number</th>\n",
              "      <th>commit_count</th>\n",
              "      <th>files</th>\n",
              "      <th>lines</th>\n",
              "      <th>pull_requests</th>\n",
              "      <th>github_repo_creation</th>\n",
              "      <th>earliest_commit</th>\n",
              "      <th>most_recent_commit</th>\n",
              "      <th>committer_count</th>\n",
              "      <th>author_count</th>\n",
              "      <th>domainant_domain</th>\n",
              "      <th>dominant_domain_committer_commits</th>\n",
              "      <th>dominant_domain_author_commits</th>\n",
              "      <th>dominant_domain_committers</th>\n",
              "      <th>dominant_domain_authors</th>\n",
              "      <th>cik</th>\n",
              "      <th>fg500</th>\n",
              "      <th>sec10k</th>\n",
              "      <th>sec20f</th>\n",
              "      <th>owner_login</th>\n",
              "      <th>company_name</th>\n",
              "      <th>owner_company</th>\n",
              "      <th>license</th>\n",
              "      <th>names</th>\n",
              "      <th>TypeScript</th>\n",
              "      <th>JavaScript</th>\n",
              "      <th>CSS</th>\n",
              "      <th>Inno Setup</th>\n",
              "      <th>HTML</th>\n",
              "      <th>Shell</th>\n",
              "      <th>Batchfile</th>\n",
              "      <th>SCSS</th>\n",
              "      <th>PowerShell</th>\n",
              "      <th>Groovy</th>\n",
              "      <th>...</th>\n",
              "      <th>2020-06-14 00:00:00</th>\n",
              "      <th>2020-06-21 00:00:00</th>\n",
              "      <th>2020-06-28 00:00:00</th>\n",
              "      <th>2020-07-05 00:00:00</th>\n",
              "      <th>2020-07-12 00:00:00</th>\n",
              "      <th>2020-07-19 00:00:00</th>\n",
              "      <th>2020-07-26 00:00:00</th>\n",
              "      <th>2020-08-02 00:00:00</th>\n",
              "      <th>2020-08-09 00:00:00</th>\n",
              "      <th>2020-08-16 00:00:00</th>\n",
              "      <th>2020-08-23 00:00:00</th>\n",
              "      <th>2020-08-30 00:00:00</th>\n",
              "      <th>2020-09-06 00:00:00</th>\n",
              "      <th>2020-09-13 00:00:00</th>\n",
              "      <th>2020-09-20 00:00:00</th>\n",
              "      <th>2020-09-27 00:00:00</th>\n",
              "      <th>2020-10-04 00:00:00</th>\n",
              "      <th>2020-10-11 00:00:00</th>\n",
              "      <th>2020-10-18 00:00:00</th>\n",
              "      <th>2020-10-25 00:00:00</th>\n",
              "      <th>2020-11-01 00:00:00</th>\n",
              "      <th>2020-11-08 00:00:00</th>\n",
              "      <th>2020-11-15 00:00:00</th>\n",
              "      <th>2020-11-22 00:00:00</th>\n",
              "      <th>2020-11-29 00:00:00</th>\n",
              "      <th>2020-12-06 00:00:00</th>\n",
              "      <th>2020-12-13 00:00:00</th>\n",
              "      <th>2020-12-20 00:00:00</th>\n",
              "      <th>2020-12-27 00:00:00</th>\n",
              "      <th>2021-01-03 00:00:00</th>\n",
              "      <th>2021-01-10 00:00:00</th>\n",
              "      <th>2021-01-17 00:00:00</th>\n",
              "      <th>2021-01-24 00:00:00</th>\n",
              "      <th>2021-01-31 00:00:00</th>\n",
              "      <th>2021-02-07 00:00:00</th>\n",
              "      <th>2021-02-14 00:00:00</th>\n",
              "      <th>2021-02-21 00:00:00</th>\n",
              "      <th>2021-02-28 00:00:00</th>\n",
              "      <th>2021-03-07 00:00:00</th>\n",
              "      <th>2021-03-14 00:00:00</th>\n",
              "    </tr>\n",
              "  </thead>\n",
              "  <tbody>\n",
              "    <tr>\n",
              "      <th>0</th>\n",
              "      <td>vscode</td>\n",
              "      <td>https://github.com/Microsoft/vscode</td>\n",
              "      <td>28947324</td>\n",
              "      <td>t</td>\n",
              "      <td>t</td>\n",
              "      <td>t</td>\n",
              "      <td>80406</td>\n",
              "      <td>55145</td>\n",
              "      <td>4210.0</td>\n",
              "      <td>1164007.0</td>\n",
              "      <td>5232</td>\n",
              "      <td>2015-09-03 20:23:38</td>\n",
              "      <td>2015-11-13 12:39:38</td>\n",
              "      <td>2019-05-31 22:11:06</td>\n",
              "      <td>831</td>\n",
              "      <td>1099</td>\n",
              "      <td>microsoft.com</td>\n",
              "      <td>43230</td>\n",
              "      <td>45274</td>\n",
              "      <td>54</td>\n",
              "      <td>323</td>\n",
              "      <td>789019.0</td>\n",
              "      <td>t</td>\n",
              "      <td>t</td>\n",
              "      <td>f</td>\n",
              "      <td>Microsoft</td>\n",
              "      <td>MICROSOFT CORPORATION</td>\n",
              "      <td>NaN</td>\n",
              "      <td>MIT</td>\n",
              "      <td>['editor', 'electron', 'visual-studio-code', '...</td>\n",
              "      <td>33176739.0</td>\n",
              "      <td>1210742.0</td>\n",
              "      <td>549832.0</td>\n",
              "      <td>277637.0</td>\n",
              "      <td>160965.0</td>\n",
              "      <td>33728.0</td>\n",
              "      <td>8271.0</td>\n",
              "      <td>6732.0</td>\n",
              "      <td>6519.0</td>\n",
              "      <td>3928.0</td>\n",
              "      <td>...</td>\n",
              "      <td>320</td>\n",
              "      <td>326</td>\n",
              "      <td>236</td>\n",
              "      <td>222</td>\n",
              "      <td>245</td>\n",
              "      <td>259</td>\n",
              "      <td>173</td>\n",
              "      <td>201</td>\n",
              "      <td>227</td>\n",
              "      <td>190</td>\n",
              "      <td>241</td>\n",
              "      <td>258</td>\n",
              "      <td>296</td>\n",
              "      <td>279</td>\n",
              "      <td>192</td>\n",
              "      <td>212</td>\n",
              "      <td>184</td>\n",
              "      <td>160</td>\n",
              "      <td>243</td>\n",
              "      <td>272</td>\n",
              "      <td>281</td>\n",
              "      <td>323</td>\n",
              "      <td>257</td>\n",
              "      <td>292</td>\n",
              "      <td>220</td>\n",
              "      <td>247</td>\n",
              "      <td>406</td>\n",
              "      <td>139</td>\n",
              "      <td>66</td>\n",
              "      <td>290</td>\n",
              "      <td>322</td>\n",
              "      <td>329</td>\n",
              "      <td>249</td>\n",
              "      <td>378</td>\n",
              "      <td>392</td>\n",
              "      <td>404</td>\n",
              "      <td>328</td>\n",
              "      <td>363</td>\n",
              "      <td>261</td>\n",
              "      <td>39</td>\n",
              "    </tr>\n",
              "    <tr>\n",
              "      <th>1</th>\n",
              "      <td>swift</td>\n",
              "      <td>https://github.com/apple/swift</td>\n",
              "      <td>29261651</td>\n",
              "      <td>t</td>\n",
              "      <td>f</td>\n",
              "      <td>f</td>\n",
              "      <td>51911</td>\n",
              "      <td>85545</td>\n",
              "      <td>NaN</td>\n",
              "      <td>NaN</td>\n",
              "      <td>24225</td>\n",
              "      <td>2015-10-23 21:15:07</td>\n",
              "      <td>2010-07-17 23:50:59</td>\n",
              "      <td>2019-05-31 23:32:06</td>\n",
              "      <td>805</td>\n",
              "      <td>912</td>\n",
              "      <td>apple.com</td>\n",
              "      <td>27079</td>\n",
              "      <td>34637</td>\n",
              "      <td>80</td>\n",
              "      <td>276</td>\n",
              "      <td>320193.0</td>\n",
              "      <td>t</td>\n",
              "      <td>t</td>\n",
              "      <td>f</td>\n",
              "      <td>Apple</td>\n",
              "      <td>APPLE INC</td>\n",
              "      <td>NaN</td>\n",
              "      <td>Apache-2.0</td>\n",
              "      <td>[]</td>\n",
              "      <td>NaN</td>\n",
              "      <td>NaN</td>\n",
              "      <td>NaN</td>\n",
              "      <td>NaN</td>\n",
              "      <td>NaN</td>\n",
              "      <td>198065.0</td>\n",
              "      <td>15028.0</td>\n",
              "      <td>NaN</td>\n",
              "      <td>NaN</td>\n",
              "      <td>NaN</td>\n",
              "      <td>...</td>\n",
              "      <td>140</td>\n",
              "      <td>128</td>\n",
              "      <td>174</td>\n",
              "      <td>138</td>\n",
              "      <td>150</td>\n",
              "      <td>170</td>\n",
              "      <td>165</td>\n",
              "      <td>166</td>\n",
              "      <td>166</td>\n",
              "      <td>128</td>\n",
              "      <td>161</td>\n",
              "      <td>158</td>\n",
              "      <td>145</td>\n",
              "      <td>96</td>\n",
              "      <td>189</td>\n",
              "      <td>134</td>\n",
              "      <td>165</td>\n",
              "      <td>141</td>\n",
              "      <td>156</td>\n",
              "      <td>149</td>\n",
              "      <td>147</td>\n",
              "      <td>169</td>\n",
              "      <td>164</td>\n",
              "      <td>26</td>\n",
              "      <td>144</td>\n",
              "      <td>147</td>\n",
              "      <td>115</td>\n",
              "      <td>70</td>\n",
              "      <td>38</td>\n",
              "      <td>129</td>\n",
              "      <td>173</td>\n",
              "      <td>144</td>\n",
              "      <td>175</td>\n",
              "      <td>191</td>\n",
              "      <td>219</td>\n",
              "      <td>138</td>\n",
              "      <td>192</td>\n",
              "      <td>180</td>\n",
              "      <td>107</td>\n",
              "      <td>9</td>\n",
              "    </tr>\n",
              "    <tr>\n",
              "      <th>2</th>\n",
              "      <td>TypeScript</td>\n",
              "      <td>https://github.com/Microsoft/TypeScript</td>\n",
              "      <td>10941284</td>\n",
              "      <td>t</td>\n",
              "      <td>t</td>\n",
              "      <td>t</td>\n",
              "      <td>51745</td>\n",
              "      <td>41276</td>\n",
              "      <td>53969.0</td>\n",
              "      <td>4923142.0</td>\n",
              "      <td>9175</td>\n",
              "      <td>2014-06-17 15:28:39</td>\n",
              "      <td>2014-07-07 22:08:16</td>\n",
              "      <td>2019-05-31 23:19:27</td>\n",
              "      <td>459</td>\n",
              "      <td>544</td>\n",
              "      <td>microsoft.com</td>\n",
              "      <td>18443</td>\n",
              "      <td>21455</td>\n",
              "      <td>29</td>\n",
              "      <td>121</td>\n",
              "      <td>789019.0</td>\n",
              "      <td>t</td>\n",
              "      <td>t</td>\n",
              "      <td>f</td>\n",
              "      <td>Microsoft</td>\n",
              "      <td>MICROSOFT CORPORATION</td>\n",
              "      <td>NaN</td>\n",
              "      <td>Apache-2.0</td>\n",
              "      <td>['typescript', 'javascript', 'language', 'type...</td>\n",
              "      <td>105161345.0</td>\n",
              "      <td>175.0</td>\n",
              "      <td>NaN</td>\n",
              "      <td>NaN</td>\n",
              "      <td>NaN</td>\n",
              "      <td>47.0</td>\n",
              "      <td>NaN</td>\n",
              "      <td>NaN</td>\n",
              "      <td>2855.0</td>\n",
              "      <td>NaN</td>\n",
              "      <td>...</td>\n",
              "      <td>42</td>\n",
              "      <td>34</td>\n",
              "      <td>33</td>\n",
              "      <td>53</td>\n",
              "      <td>27</td>\n",
              "      <td>17</td>\n",
              "      <td>21</td>\n",
              "      <td>27</td>\n",
              "      <td>15</td>\n",
              "      <td>38</td>\n",
              "      <td>24</td>\n",
              "      <td>28</td>\n",
              "      <td>43</td>\n",
              "      <td>34</td>\n",
              "      <td>44</td>\n",
              "      <td>33</td>\n",
              "      <td>51</td>\n",
              "      <td>21</td>\n",
              "      <td>29</td>\n",
              "      <td>43</td>\n",
              "      <td>37</td>\n",
              "      <td>24</td>\n",
              "      <td>14</td>\n",
              "      <td>21</td>\n",
              "      <td>35</td>\n",
              "      <td>26</td>\n",
              "      <td>29</td>\n",
              "      <td>10</td>\n",
              "      <td>11</td>\n",
              "      <td>31</td>\n",
              "      <td>26</td>\n",
              "      <td>20</td>\n",
              "      <td>22</td>\n",
              "      <td>27</td>\n",
              "      <td>22</td>\n",
              "      <td>29</td>\n",
              "      <td>26</td>\n",
              "      <td>36</td>\n",
              "      <td>32</td>\n",
              "      <td>2</td>\n",
              "    </tr>\n",
              "    <tr>\n",
              "      <th>3</th>\n",
              "      <td>spring-boot</td>\n",
              "      <td>https://github.com/spring-projects/spring-boot</td>\n",
              "      <td>4952344</td>\n",
              "      <td>t</td>\n",
              "      <td>f</td>\n",
              "      <td>f</td>\n",
              "      <td>39634</td>\n",
              "      <td>22099</td>\n",
              "      <td>6242.0</td>\n",
              "      <td>574034.0</td>\n",
              "      <td>3365</td>\n",
              "      <td>2012-10-19 15:02:57</td>\n",
              "      <td>2013-07-24 10:28:30</td>\n",
              "      <td>2019-05-31 22:17:55</td>\n",
              "      <td>278</td>\n",
              "      <td>741</td>\n",
              "      <td>pivotal.io</td>\n",
              "      <td>19061</td>\n",
              "      <td>17226</td>\n",
              "      <td>21</td>\n",
              "      <td>615</td>\n",
              "      <td>1574135.0</td>\n",
              "      <td>f</td>\n",
              "      <td>t</td>\n",
              "      <td>f</td>\n",
              "      <td>spring-projects</td>\n",
              "      <td>NaN</td>\n",
              "      <td>NaN</td>\n",
              "      <td>Apache-2.0</td>\n",
              "      <td>['java', 'spring-boot', 'spring', 'framework']</td>\n",
              "      <td>NaN</td>\n",
              "      <td>37722.0</td>\n",
              "      <td>450.0</td>\n",
              "      <td>NaN</td>\n",
              "      <td>70165.0</td>\n",
              "      <td>43188.0</td>\n",
              "      <td>2141.0</td>\n",
              "      <td>NaN</td>\n",
              "      <td>NaN</td>\n",
              "      <td>26659.0</td>\n",
              "      <td>...</td>\n",
              "      <td>80</td>\n",
              "      <td>64</td>\n",
              "      <td>38</td>\n",
              "      <td>41</td>\n",
              "      <td>51</td>\n",
              "      <td>146</td>\n",
              "      <td>59</td>\n",
              "      <td>111</td>\n",
              "      <td>98</td>\n",
              "      <td>38</td>\n",
              "      <td>56</td>\n",
              "      <td>21</td>\n",
              "      <td>62</td>\n",
              "      <td>148</td>\n",
              "      <td>47</td>\n",
              "      <td>51</td>\n",
              "      <td>35</td>\n",
              "      <td>82</td>\n",
              "      <td>65</td>\n",
              "      <td>172</td>\n",
              "      <td>43</td>\n",
              "      <td>64</td>\n",
              "      <td>21</td>\n",
              "      <td>9</td>\n",
              "      <td>28</td>\n",
              "      <td>154</td>\n",
              "      <td>44</td>\n",
              "      <td>28</td>\n",
              "      <td>4</td>\n",
              "      <td>36</td>\n",
              "      <td>115</td>\n",
              "      <td>95</td>\n",
              "      <td>30</td>\n",
              "      <td>28</td>\n",
              "      <td>98</td>\n",
              "      <td>101</td>\n",
              "      <td>46</td>\n",
              "      <td>34</td>\n",
              "      <td>36</td>\n",
              "      <td>29</td>\n",
              "    </tr>\n",
              "    <tr>\n",
              "      <th>4</th>\n",
              "      <td>element</td>\n",
              "      <td>https://github.com/ElemeFE/element</td>\n",
              "      <td>44989079</td>\n",
              "      <td>f</td>\n",
              "      <td>f</td>\n",
              "      <td>t</td>\n",
              "      <td>39620</td>\n",
              "      <td>5317</td>\n",
              "      <td>1069.0</td>\n",
              "      <td>177763.0</td>\n",
              "      <td>3662</td>\n",
              "      <td>2016-09-03 06:19:26</td>\n",
              "      <td>2016-07-27 06:15:02</td>\n",
              "      <td>2019-05-31 09:06:40</td>\n",
              "      <td>209</td>\n",
              "      <td>570</td>\n",
              "      <td>ele.me</td>\n",
              "      <td>53</td>\n",
              "      <td>63</td>\n",
              "      <td>6</td>\n",
              "      <td>8</td>\n",
              "      <td>NaN</td>\n",
              "      <td>NaN</td>\n",
              "      <td>NaN</td>\n",
              "      <td>NaN</td>\n",
              "      <td>ElemeFE</td>\n",
              "      <td>NaN</td>\n",
              "      <td>NaN</td>\n",
              "      <td>MIT</td>\n",
              "      <td>['vue', 'components', 'javascript', 'vue-compo...</td>\n",
              "      <td>NaN</td>\n",
              "      <td>520947.0</td>\n",
              "      <td>NaN</td>\n",
              "      <td>NaN</td>\n",
              "      <td>NaN</td>\n",
              "      <td>3901.0</td>\n",
              "      <td>NaN</td>\n",
              "      <td>273118.0</td>\n",
              "      <td>NaN</td>\n",
              "      <td>NaN</td>\n",
              "      <td>...</td>\n",
              "      <td>0</td>\n",
              "      <td>0</td>\n",
              "      <td>0</td>\n",
              "      <td>0</td>\n",
              "      <td>0</td>\n",
              "      <td>0</td>\n",
              "      <td>0</td>\n",
              "      <td>0</td>\n",
              "      <td>0</td>\n",
              "      <td>1</td>\n",
              "      <td>0</td>\n",
              "      <td>0</td>\n",
              "      <td>0</td>\n",
              "      <td>1</td>\n",
              "      <td>0</td>\n",
              "      <td>0</td>\n",
              "      <td>0</td>\n",
              "      <td>0</td>\n",
              "      <td>0</td>\n",
              "      <td>12</td>\n",
              "      <td>0</td>\n",
              "      <td>10</td>\n",
              "      <td>0</td>\n",
              "      <td>0</td>\n",
              "      <td>0</td>\n",
              "      <td>0</td>\n",
              "      <td>1</td>\n",
              "      <td>0</td>\n",
              "      <td>4</td>\n",
              "      <td>1</td>\n",
              "      <td>4</td>\n",
              "      <td>1</td>\n",
              "      <td>1</td>\n",
              "      <td>4</td>\n",
              "      <td>0</td>\n",
              "      <td>0</td>\n",
              "      <td>4</td>\n",
              "      <td>0</td>\n",
              "      <td>0</td>\n",
              "      <td>0</td>\n",
              "    </tr>\n",
              "  </tbody>\n",
              "</table>\n",
              "<p>5 rows × 180 columns</p>\n",
              "</div>"
            ],
            "text/plain": [
              "  project_name  ... 2021-03-14 00:00:00\n",
              "0       vscode  ...                  39\n",
              "1        swift  ...                   9\n",
              "2   TypeScript  ...                   2\n",
              "3  spring-boot  ...                  29\n",
              "4      element  ...                   0\n",
              "\n",
              "[5 rows x 180 columns]"
            ]
          },
          "metadata": {
            "tags": []
          },
          "execution_count": 2
        }
      ]
    },
    {
      "cell_type": "code",
      "metadata": {
        "id": "8x4yk3QS6wjn"
      },
      "source": [
        "# languages used: TypeScript, C++, Java, Scala, Swift, Python, JavaScript, HTML, C"
      ],
      "execution_count": null,
      "outputs": []
    },
    {
      "cell_type": "code",
      "metadata": {
        "id": "0V1p_Gik-4EX"
      },
      "source": [
        "# retrieving a list of all possible languages, tools and technologies used in all repos\r\n",
        "\r\n",
        "languages = df_master.loc[:,'TypeScript':'Liquid'].columns"
      ],
      "execution_count": null,
      "outputs": []
    },
    {
      "cell_type": "code",
      "metadata": {
        "colab": {
          "base_uri": "https://localhost:8080/",
          "height": 499
        },
        "id": "OBNgxzreAonG",
        "outputId": "82aedc3c-46ab-4725-800e-ebd5b0f7b87c"
      },
      "source": [
        "# filtering out to only 9 of the most popular languages.\r\n",
        "\r\n",
        "df_master.drop([lang for lang in languages if lang not in ['TypeScript','C++','Java','Scala','Swift','Python',\r\n",
        "                                      'JavaScript','HTML','C']],axis=1,inplace=True)\r\n",
        "\r\n",
        "df_master.head()"
      ],
      "execution_count": null,
      "outputs": [
        {
          "output_type": "execute_result",
          "data": {
            "text/html": [
              "<div>\n",
              "<style scoped>\n",
              "    .dataframe tbody tr th:only-of-type {\n",
              "        vertical-align: middle;\n",
              "    }\n",
              "\n",
              "    .dataframe tbody tr th {\n",
              "        vertical-align: top;\n",
              "    }\n",
              "\n",
              "    .dataframe thead th {\n",
              "        text-align: right;\n",
              "    }\n",
              "</style>\n",
              "<table border=\"1\" class=\"dataframe\">\n",
              "  <thead>\n",
              "    <tr style=\"text-align: right;\">\n",
              "      <th></th>\n",
              "      <th>project_name</th>\n",
              "      <th>url</th>\n",
              "      <th>project_id</th>\n",
              "      <th>sdtc</th>\n",
              "      <th>mcpc</th>\n",
              "      <th>mcve</th>\n",
              "      <th>star_number</th>\n",
              "      <th>commit_count</th>\n",
              "      <th>files</th>\n",
              "      <th>lines</th>\n",
              "      <th>pull_requests</th>\n",
              "      <th>github_repo_creation</th>\n",
              "      <th>earliest_commit</th>\n",
              "      <th>most_recent_commit</th>\n",
              "      <th>committer_count</th>\n",
              "      <th>author_count</th>\n",
              "      <th>domainant_domain</th>\n",
              "      <th>dominant_domain_committer_commits</th>\n",
              "      <th>dominant_domain_author_commits</th>\n",
              "      <th>dominant_domain_committers</th>\n",
              "      <th>dominant_domain_authors</th>\n",
              "      <th>cik</th>\n",
              "      <th>fg500</th>\n",
              "      <th>sec10k</th>\n",
              "      <th>sec20f</th>\n",
              "      <th>owner_login</th>\n",
              "      <th>company_name</th>\n",
              "      <th>owner_company</th>\n",
              "      <th>license</th>\n",
              "      <th>names</th>\n",
              "      <th>TypeScript</th>\n",
              "      <th>JavaScript</th>\n",
              "      <th>HTML</th>\n",
              "      <th>C++</th>\n",
              "      <th>Python</th>\n",
              "      <th>C</th>\n",
              "      <th>Java</th>\n",
              "      <th>Swift</th>\n",
              "      <th>Scala</th>\n",
              "      <th>HCL</th>\n",
              "      <th>...</th>\n",
              "      <th>2020-06-14 00:00:00</th>\n",
              "      <th>2020-06-21 00:00:00</th>\n",
              "      <th>2020-06-28 00:00:00</th>\n",
              "      <th>2020-07-05 00:00:00</th>\n",
              "      <th>2020-07-12 00:00:00</th>\n",
              "      <th>2020-07-19 00:00:00</th>\n",
              "      <th>2020-07-26 00:00:00</th>\n",
              "      <th>2020-08-02 00:00:00</th>\n",
              "      <th>2020-08-09 00:00:00</th>\n",
              "      <th>2020-08-16 00:00:00</th>\n",
              "      <th>2020-08-23 00:00:00</th>\n",
              "      <th>2020-08-30 00:00:00</th>\n",
              "      <th>2020-09-06 00:00:00</th>\n",
              "      <th>2020-09-13 00:00:00</th>\n",
              "      <th>2020-09-20 00:00:00</th>\n",
              "      <th>2020-09-27 00:00:00</th>\n",
              "      <th>2020-10-04 00:00:00</th>\n",
              "      <th>2020-10-11 00:00:00</th>\n",
              "      <th>2020-10-18 00:00:00</th>\n",
              "      <th>2020-10-25 00:00:00</th>\n",
              "      <th>2020-11-01 00:00:00</th>\n",
              "      <th>2020-11-08 00:00:00</th>\n",
              "      <th>2020-11-15 00:00:00</th>\n",
              "      <th>2020-11-22 00:00:00</th>\n",
              "      <th>2020-11-29 00:00:00</th>\n",
              "      <th>2020-12-06 00:00:00</th>\n",
              "      <th>2020-12-13 00:00:00</th>\n",
              "      <th>2020-12-20 00:00:00</th>\n",
              "      <th>2020-12-27 00:00:00</th>\n",
              "      <th>2021-01-03 00:00:00</th>\n",
              "      <th>2021-01-10 00:00:00</th>\n",
              "      <th>2021-01-17 00:00:00</th>\n",
              "      <th>2021-01-24 00:00:00</th>\n",
              "      <th>2021-01-31 00:00:00</th>\n",
              "      <th>2021-02-07 00:00:00</th>\n",
              "      <th>2021-02-14 00:00:00</th>\n",
              "      <th>2021-02-21 00:00:00</th>\n",
              "      <th>2021-02-28 00:00:00</th>\n",
              "      <th>2021-03-07 00:00:00</th>\n",
              "      <th>2021-03-14 00:00:00</th>\n",
              "    </tr>\n",
              "  </thead>\n",
              "  <tbody>\n",
              "    <tr>\n",
              "      <th>0</th>\n",
              "      <td>vscode</td>\n",
              "      <td>https://github.com/Microsoft/vscode</td>\n",
              "      <td>28947324</td>\n",
              "      <td>t</td>\n",
              "      <td>t</td>\n",
              "      <td>t</td>\n",
              "      <td>80406</td>\n",
              "      <td>55145</td>\n",
              "      <td>4210.0</td>\n",
              "      <td>1164007.0</td>\n",
              "      <td>5232</td>\n",
              "      <td>2015-09-03 20:23:38</td>\n",
              "      <td>2015-11-13 12:39:38</td>\n",
              "      <td>2019-05-31 22:11:06</td>\n",
              "      <td>831</td>\n",
              "      <td>1099</td>\n",
              "      <td>microsoft.com</td>\n",
              "      <td>43230</td>\n",
              "      <td>45274</td>\n",
              "      <td>54</td>\n",
              "      <td>323</td>\n",
              "      <td>789019.0</td>\n",
              "      <td>t</td>\n",
              "      <td>t</td>\n",
              "      <td>f</td>\n",
              "      <td>Microsoft</td>\n",
              "      <td>MICROSOFT CORPORATION</td>\n",
              "      <td>NaN</td>\n",
              "      <td>MIT</td>\n",
              "      <td>['editor', 'electron', 'visual-studio-code', '...</td>\n",
              "      <td>33176739.0</td>\n",
              "      <td>1210742.0</td>\n",
              "      <td>160965.0</td>\n",
              "      <td>3251.0</td>\n",
              "      <td>2405.0</td>\n",
              "      <td>818.0</td>\n",
              "      <td>599.0</td>\n",
              "      <td>284.0</td>\n",
              "      <td>NaN</td>\n",
              "      <td>NaN</td>\n",
              "      <td>...</td>\n",
              "      <td>320</td>\n",
              "      <td>326</td>\n",
              "      <td>236</td>\n",
              "      <td>222</td>\n",
              "      <td>245</td>\n",
              "      <td>259</td>\n",
              "      <td>173</td>\n",
              "      <td>201</td>\n",
              "      <td>227</td>\n",
              "      <td>190</td>\n",
              "      <td>241</td>\n",
              "      <td>258</td>\n",
              "      <td>296</td>\n",
              "      <td>279</td>\n",
              "      <td>192</td>\n",
              "      <td>212</td>\n",
              "      <td>184</td>\n",
              "      <td>160</td>\n",
              "      <td>243</td>\n",
              "      <td>272</td>\n",
              "      <td>281</td>\n",
              "      <td>323</td>\n",
              "      <td>257</td>\n",
              "      <td>292</td>\n",
              "      <td>220</td>\n",
              "      <td>247</td>\n",
              "      <td>406</td>\n",
              "      <td>139</td>\n",
              "      <td>66</td>\n",
              "      <td>290</td>\n",
              "      <td>322</td>\n",
              "      <td>329</td>\n",
              "      <td>249</td>\n",
              "      <td>378</td>\n",
              "      <td>392</td>\n",
              "      <td>404</td>\n",
              "      <td>328</td>\n",
              "      <td>363</td>\n",
              "      <td>261</td>\n",
              "      <td>39</td>\n",
              "    </tr>\n",
              "    <tr>\n",
              "      <th>1</th>\n",
              "      <td>swift</td>\n",
              "      <td>https://github.com/apple/swift</td>\n",
              "      <td>29261651</td>\n",
              "      <td>t</td>\n",
              "      <td>f</td>\n",
              "      <td>f</td>\n",
              "      <td>51911</td>\n",
              "      <td>85545</td>\n",
              "      <td>NaN</td>\n",
              "      <td>NaN</td>\n",
              "      <td>24225</td>\n",
              "      <td>2015-10-23 21:15:07</td>\n",
              "      <td>2010-07-17 23:50:59</td>\n",
              "      <td>2019-05-31 23:32:06</td>\n",
              "      <td>805</td>\n",
              "      <td>912</td>\n",
              "      <td>apple.com</td>\n",
              "      <td>27079</td>\n",
              "      <td>34637</td>\n",
              "      <td>80</td>\n",
              "      <td>276</td>\n",
              "      <td>320193.0</td>\n",
              "      <td>t</td>\n",
              "      <td>t</td>\n",
              "      <td>f</td>\n",
              "      <td>Apple</td>\n",
              "      <td>APPLE INC</td>\n",
              "      <td>NaN</td>\n",
              "      <td>Apache-2.0</td>\n",
              "      <td>[]</td>\n",
              "      <td>NaN</td>\n",
              "      <td>NaN</td>\n",
              "      <td>NaN</td>\n",
              "      <td>41487955.0</td>\n",
              "      <td>1810011.0</td>\n",
              "      <td>322731.0</td>\n",
              "      <td>NaN</td>\n",
              "      <td>35798323.0</td>\n",
              "      <td>NaN</td>\n",
              "      <td>NaN</td>\n",
              "      <td>...</td>\n",
              "      <td>140</td>\n",
              "      <td>128</td>\n",
              "      <td>174</td>\n",
              "      <td>138</td>\n",
              "      <td>150</td>\n",
              "      <td>170</td>\n",
              "      <td>165</td>\n",
              "      <td>166</td>\n",
              "      <td>166</td>\n",
              "      <td>128</td>\n",
              "      <td>161</td>\n",
              "      <td>158</td>\n",
              "      <td>145</td>\n",
              "      <td>96</td>\n",
              "      <td>189</td>\n",
              "      <td>134</td>\n",
              "      <td>165</td>\n",
              "      <td>141</td>\n",
              "      <td>156</td>\n",
              "      <td>149</td>\n",
              "      <td>147</td>\n",
              "      <td>169</td>\n",
              "      <td>164</td>\n",
              "      <td>26</td>\n",
              "      <td>144</td>\n",
              "      <td>147</td>\n",
              "      <td>115</td>\n",
              "      <td>70</td>\n",
              "      <td>38</td>\n",
              "      <td>129</td>\n",
              "      <td>173</td>\n",
              "      <td>144</td>\n",
              "      <td>175</td>\n",
              "      <td>191</td>\n",
              "      <td>219</td>\n",
              "      <td>138</td>\n",
              "      <td>192</td>\n",
              "      <td>180</td>\n",
              "      <td>107</td>\n",
              "      <td>9</td>\n",
              "    </tr>\n",
              "    <tr>\n",
              "      <th>2</th>\n",
              "      <td>TypeScript</td>\n",
              "      <td>https://github.com/Microsoft/TypeScript</td>\n",
              "      <td>10941284</td>\n",
              "      <td>t</td>\n",
              "      <td>t</td>\n",
              "      <td>t</td>\n",
              "      <td>51745</td>\n",
              "      <td>41276</td>\n",
              "      <td>53969.0</td>\n",
              "      <td>4923142.0</td>\n",
              "      <td>9175</td>\n",
              "      <td>2014-06-17 15:28:39</td>\n",
              "      <td>2014-07-07 22:08:16</td>\n",
              "      <td>2019-05-31 23:19:27</td>\n",
              "      <td>459</td>\n",
              "      <td>544</td>\n",
              "      <td>microsoft.com</td>\n",
              "      <td>18443</td>\n",
              "      <td>21455</td>\n",
              "      <td>29</td>\n",
              "      <td>121</td>\n",
              "      <td>789019.0</td>\n",
              "      <td>t</td>\n",
              "      <td>t</td>\n",
              "      <td>f</td>\n",
              "      <td>Microsoft</td>\n",
              "      <td>MICROSOFT CORPORATION</td>\n",
              "      <td>NaN</td>\n",
              "      <td>Apache-2.0</td>\n",
              "      <td>['typescript', 'javascript', 'language', 'type...</td>\n",
              "      <td>105161345.0</td>\n",
              "      <td>175.0</td>\n",
              "      <td>NaN</td>\n",
              "      <td>NaN</td>\n",
              "      <td>NaN</td>\n",
              "      <td>NaN</td>\n",
              "      <td>NaN</td>\n",
              "      <td>NaN</td>\n",
              "      <td>NaN</td>\n",
              "      <td>NaN</td>\n",
              "      <td>...</td>\n",
              "      <td>42</td>\n",
              "      <td>34</td>\n",
              "      <td>33</td>\n",
              "      <td>53</td>\n",
              "      <td>27</td>\n",
              "      <td>17</td>\n",
              "      <td>21</td>\n",
              "      <td>27</td>\n",
              "      <td>15</td>\n",
              "      <td>38</td>\n",
              "      <td>24</td>\n",
              "      <td>28</td>\n",
              "      <td>43</td>\n",
              "      <td>34</td>\n",
              "      <td>44</td>\n",
              "      <td>33</td>\n",
              "      <td>51</td>\n",
              "      <td>21</td>\n",
              "      <td>29</td>\n",
              "      <td>43</td>\n",
              "      <td>37</td>\n",
              "      <td>24</td>\n",
              "      <td>14</td>\n",
              "      <td>21</td>\n",
              "      <td>35</td>\n",
              "      <td>26</td>\n",
              "      <td>29</td>\n",
              "      <td>10</td>\n",
              "      <td>11</td>\n",
              "      <td>31</td>\n",
              "      <td>26</td>\n",
              "      <td>20</td>\n",
              "      <td>22</td>\n",
              "      <td>27</td>\n",
              "      <td>22</td>\n",
              "      <td>29</td>\n",
              "      <td>26</td>\n",
              "      <td>36</td>\n",
              "      <td>32</td>\n",
              "      <td>2</td>\n",
              "    </tr>\n",
              "    <tr>\n",
              "      <th>3</th>\n",
              "      <td>spring-boot</td>\n",
              "      <td>https://github.com/spring-projects/spring-boot</td>\n",
              "      <td>4952344</td>\n",
              "      <td>t</td>\n",
              "      <td>f</td>\n",
              "      <td>f</td>\n",
              "      <td>39634</td>\n",
              "      <td>22099</td>\n",
              "      <td>6242.0</td>\n",
              "      <td>574034.0</td>\n",
              "      <td>3365</td>\n",
              "      <td>2012-10-19 15:02:57</td>\n",
              "      <td>2013-07-24 10:28:30</td>\n",
              "      <td>2019-05-31 22:17:55</td>\n",
              "      <td>278</td>\n",
              "      <td>741</td>\n",
              "      <td>pivotal.io</td>\n",
              "      <td>19061</td>\n",
              "      <td>17226</td>\n",
              "      <td>21</td>\n",
              "      <td>615</td>\n",
              "      <td>1574135.0</td>\n",
              "      <td>f</td>\n",
              "      <td>t</td>\n",
              "      <td>f</td>\n",
              "      <td>spring-projects</td>\n",
              "      <td>NaN</td>\n",
              "      <td>NaN</td>\n",
              "      <td>Apache-2.0</td>\n",
              "      <td>['java', 'spring-boot', 'spring', 'framework']</td>\n",
              "      <td>NaN</td>\n",
              "      <td>37722.0</td>\n",
              "      <td>70165.0</td>\n",
              "      <td>NaN</td>\n",
              "      <td>NaN</td>\n",
              "      <td>NaN</td>\n",
              "      <td>19523039.0</td>\n",
              "      <td>NaN</td>\n",
              "      <td>NaN</td>\n",
              "      <td>NaN</td>\n",
              "      <td>...</td>\n",
              "      <td>80</td>\n",
              "      <td>64</td>\n",
              "      <td>38</td>\n",
              "      <td>41</td>\n",
              "      <td>51</td>\n",
              "      <td>146</td>\n",
              "      <td>59</td>\n",
              "      <td>111</td>\n",
              "      <td>98</td>\n",
              "      <td>38</td>\n",
              "      <td>56</td>\n",
              "      <td>21</td>\n",
              "      <td>62</td>\n",
              "      <td>148</td>\n",
              "      <td>47</td>\n",
              "      <td>51</td>\n",
              "      <td>35</td>\n",
              "      <td>82</td>\n",
              "      <td>65</td>\n",
              "      <td>172</td>\n",
              "      <td>43</td>\n",
              "      <td>64</td>\n",
              "      <td>21</td>\n",
              "      <td>9</td>\n",
              "      <td>28</td>\n",
              "      <td>154</td>\n",
              "      <td>44</td>\n",
              "      <td>28</td>\n",
              "      <td>4</td>\n",
              "      <td>36</td>\n",
              "      <td>115</td>\n",
              "      <td>95</td>\n",
              "      <td>30</td>\n",
              "      <td>28</td>\n",
              "      <td>98</td>\n",
              "      <td>101</td>\n",
              "      <td>46</td>\n",
              "      <td>34</td>\n",
              "      <td>36</td>\n",
              "      <td>29</td>\n",
              "    </tr>\n",
              "    <tr>\n",
              "      <th>4</th>\n",
              "      <td>element</td>\n",
              "      <td>https://github.com/ElemeFE/element</td>\n",
              "      <td>44989079</td>\n",
              "      <td>f</td>\n",
              "      <td>f</td>\n",
              "      <td>t</td>\n",
              "      <td>39620</td>\n",
              "      <td>5317</td>\n",
              "      <td>1069.0</td>\n",
              "      <td>177763.0</td>\n",
              "      <td>3662</td>\n",
              "      <td>2016-09-03 06:19:26</td>\n",
              "      <td>2016-07-27 06:15:02</td>\n",
              "      <td>2019-05-31 09:06:40</td>\n",
              "      <td>209</td>\n",
              "      <td>570</td>\n",
              "      <td>ele.me</td>\n",
              "      <td>53</td>\n",
              "      <td>63</td>\n",
              "      <td>6</td>\n",
              "      <td>8</td>\n",
              "      <td>NaN</td>\n",
              "      <td>NaN</td>\n",
              "      <td>NaN</td>\n",
              "      <td>NaN</td>\n",
              "      <td>ElemeFE</td>\n",
              "      <td>NaN</td>\n",
              "      <td>NaN</td>\n",
              "      <td>MIT</td>\n",
              "      <td>['vue', 'components', 'javascript', 'vue-compo...</td>\n",
              "      <td>NaN</td>\n",
              "      <td>520947.0</td>\n",
              "      <td>NaN</td>\n",
              "      <td>NaN</td>\n",
              "      <td>NaN</td>\n",
              "      <td>NaN</td>\n",
              "      <td>NaN</td>\n",
              "      <td>NaN</td>\n",
              "      <td>NaN</td>\n",
              "      <td>NaN</td>\n",
              "      <td>...</td>\n",
              "      <td>0</td>\n",
              "      <td>0</td>\n",
              "      <td>0</td>\n",
              "      <td>0</td>\n",
              "      <td>0</td>\n",
              "      <td>0</td>\n",
              "      <td>0</td>\n",
              "      <td>0</td>\n",
              "      <td>0</td>\n",
              "      <td>1</td>\n",
              "      <td>0</td>\n",
              "      <td>0</td>\n",
              "      <td>0</td>\n",
              "      <td>1</td>\n",
              "      <td>0</td>\n",
              "      <td>0</td>\n",
              "      <td>0</td>\n",
              "      <td>0</td>\n",
              "      <td>0</td>\n",
              "      <td>12</td>\n",
              "      <td>0</td>\n",
              "      <td>10</td>\n",
              "      <td>0</td>\n",
              "      <td>0</td>\n",
              "      <td>0</td>\n",
              "      <td>0</td>\n",
              "      <td>1</td>\n",
              "      <td>0</td>\n",
              "      <td>4</td>\n",
              "      <td>1</td>\n",
              "      <td>4</td>\n",
              "      <td>1</td>\n",
              "      <td>1</td>\n",
              "      <td>4</td>\n",
              "      <td>0</td>\n",
              "      <td>0</td>\n",
              "      <td>4</td>\n",
              "      <td>0</td>\n",
              "      <td>0</td>\n",
              "      <td>0</td>\n",
              "    </tr>\n",
              "  </tbody>\n",
              "</table>\n",
              "<p>5 rows × 118 columns</p>\n",
              "</div>"
            ],
            "text/plain": [
              "  project_name  ... 2021-03-14 00:00:00\n",
              "0       vscode  ...                  39\n",
              "1        swift  ...                   9\n",
              "2   TypeScript  ...                   2\n",
              "3  spring-boot  ...                  29\n",
              "4      element  ...                   0\n",
              "\n",
              "[5 rows x 118 columns]"
            ]
          },
          "metadata": {
            "tags": []
          },
          "execution_count": 4
        }
      ]
    },
    {
      "cell_type": "code",
      "metadata": {
        "id": "exHiTKPqFZRo"
      },
      "source": [
        "# converting the language variables to dummy variables.\r\n",
        "\r\n",
        "for col in df_master.loc[:,'TypeScript':'Scala'].columns:\r\n",
        "  df_master[col] = df_master[col].notna().map({\r\n",
        "      False: 0,\r\n",
        "      True: 1\r\n",
        "  })"
      ],
      "execution_count": null,
      "outputs": []
    },
    {
      "cell_type": "code",
      "metadata": {
        "id": "ff3WKeez3S9l"
      },
      "source": [
        "# creating median weekly commit rate as a separate variable\r\n",
        "\r\n",
        "first = df_master.columns[-52:][0]\r\n",
        "last = df_master.columns[-52:][-1]\r\n",
        "\r\n",
        "df_master['median_weekly_commits'] = df_master.loc[:,first:last].median(axis=1)"
      ],
      "execution_count": null,
      "outputs": []
    },
    {
      "cell_type": "code",
      "metadata": {
        "id": "ialtsjdv5_xR"
      },
      "source": [
        "# we plan on log transforming median_weekly_commits due to skewness, so we replace 0s with 1s to not get\r\n",
        "# any -inf values.\r\n",
        "\r\n",
        "df_master['median_weekly_commits'] = df_master['median_weekly_commits'].replace(0,1)"
      ],
      "execution_count": null,
      "outputs": []
    },
    {
      "cell_type": "markdown",
      "metadata": {
        "id": "n4YVhjJoI9BG"
      },
      "source": [
        "**Packages used**"
      ]
    },
    {
      "cell_type": "code",
      "metadata": {
        "id": "I7WqGajaIGb1"
      },
      "source": [
        "from sklearn.compose import make_column_transformer\r\n",
        "from sklearn.preprocessing import StandardScaler, OneHotEncoder\r\n",
        "from sklearn.linear_model import LinearRegression\r\n",
        "from sklearn.neighbors import KNeighborsRegressor\r\n",
        "from sklearn.cluster import KMeans\r\n",
        "from sklearn.model_selection import train_test_split\r\n",
        "from sklearn.model_selection import cross_val_score\r\n",
        "from sklearn.model_selection import GridSearchCV\r\n",
        "from sklearn.pipeline import make_pipeline\r\n",
        "from sklearn.metrics import mean_squared_error"
      ],
      "execution_count": null,
      "outputs": []
    },
    {
      "cell_type": "markdown",
      "metadata": {
        "id": "sya56PWdDtEO"
      },
      "source": [
        "**QUESTION 1: Based on certain features, how popular will an open source enterprise GitHub repository be ? We'll use linear regression first.**"
      ]
    },
    {
      "cell_type": "markdown",
      "metadata": {
        "id": "o47-NnW1Unar"
      },
      "source": [
        "Most of the data seems to be pretty right skewed, so we log transformed the quantitative predictors and response variable."
      ]
    },
    {
      "cell_type": "code",
      "metadata": {
        "id": "IFyscBD92G7X"
      },
      "source": [
        "# log transformations\r\n",
        "\r\n",
        "df_master['log_star_number'] = np.log(df_master.star_number)\r\n",
        "df_master['log_commit_count'] = np.log(df_master.commit_count)\r\n",
        "df_master['log_pull_requests'] = np.log(df_master.pull_requests)\r\n",
        "df_master['log_weekly_commits'] = np.log(df_master['median_weekly_commits'])"
      ],
      "execution_count": null,
      "outputs": []
    },
    {
      "cell_type": "code",
      "metadata": {
        "id": "eqay75tPSMKM"
      },
      "source": [
        "# creating design matrix and response vector\r\n",
        "\r\n",
        "X = df_master[['log_commit_count','log_pull_requests', 'log_weekly_commits',\r\n",
        "              'TypeScript','JavaScript','HTML','C++','Python','C','Java','Swift','Scala']]\r\n",
        "y = df_master.log_star_number"
      ],
      "execution_count": null,
      "outputs": []
    },
    {
      "cell_type": "code",
      "metadata": {
        "id": "5qYHhcJ6XS4Z"
      },
      "source": [
        "# creating training and test data\r\n",
        "\r\n",
        "X_train, X_test, y_train, y_test = train_test_split(X, y, test_size=0.25, random_state=42)"
      ],
      "execution_count": null,
      "outputs": []
    },
    {
      "cell_type": "code",
      "metadata": {
        "colab": {
          "base_uri": "https://localhost:8080/"
        },
        "id": "tuFJXPcOXlTR",
        "outputId": "5ce70404-f36e-4774-a862-9f6d29dae3af"
      },
      "source": [
        "# pipeline to scale and fit data. \r\n",
        "\r\n",
        "pipeline = make_pipeline(\r\n",
        "    StandardScaler(),\r\n",
        "    LinearRegression()\r\n",
        ")\r\n",
        "\r\n",
        "pipeline.fit(X=X_train,y=y_train)"
      ],
      "execution_count": null,
      "outputs": [
        {
          "output_type": "execute_result",
          "data": {
            "text/plain": [
              "Pipeline(memory=None,\n",
              "         steps=[('standardscaler',\n",
              "                 StandardScaler(copy=True, with_mean=True, with_std=True)),\n",
              "                ('linearregression',\n",
              "                 LinearRegression(copy_X=True, fit_intercept=True, n_jobs=None,\n",
              "                                  normalize=False))],\n",
              "         verbose=False)"
            ]
          },
          "metadata": {
            "tags": []
          },
          "execution_count": 22
        }
      ]
    },
    {
      "cell_type": "code",
      "metadata": {
        "colab": {
          "base_uri": "https://localhost:8080/"
        },
        "id": "vlS6VfNmaBC2",
        "outputId": "86388f88-0051-4a86-f045-120e0e09fb65"
      },
      "source": [
        "pipeline['linearregression'].coef_"
      ],
      "execution_count": null,
      "outputs": [
        {
          "output_type": "execute_result",
          "data": {
            "text/plain": [
              "array([-0.00125208,  0.12971304,  0.15794685, -0.11294237,  0.03396781,\n",
              "       -0.04764955, -0.10787271, -0.13682948,  0.16528325, -0.00974589,\n",
              "       -0.01793999, -0.0776327 ])"
            ]
          },
          "metadata": {
            "tags": []
          },
          "execution_count": 23
        }
      ]
    },
    {
      "cell_type": "code",
      "metadata": {
        "colab": {
          "base_uri": "https://localhost:8080/"
        },
        "id": "R-HQWecbgz8H",
        "outputId": "aa15e4b2-bb7c-4832-98a7-0c0b8ab85a24"
      },
      "source": [
        "pipeline['linearregression'].intercept_"
      ],
      "execution_count": null,
      "outputs": [
        {
          "output_type": "execute_result",
          "data": {
            "text/plain": [
              "9.568526027295627"
            ]
          },
          "metadata": {
            "tags": []
          },
          "execution_count": 52
        }
      ]
    },
    {
      "cell_type": "code",
      "metadata": {
        "id": "57HJnHRslOHo"
      },
      "source": [
        "y_test_ = pipeline.predict(X_test)"
      ],
      "execution_count": null,
      "outputs": []
    },
    {
      "cell_type": "code",
      "metadata": {
        "colab": {
          "base_uri": "https://localhost:8080/"
        },
        "id": "ZDCQGLkzg5AR",
        "outputId": "8c004f1d-7630-41b6-c2cf-b97d7ee3901c"
      },
      "source": [
        "mean_squared_error(y_test,y_test_)"
      ],
      "execution_count": null,
      "outputs": [
        {
          "output_type": "execute_result",
          "data": {
            "text/plain": [
              "0.28573846128362546"
            ]
          },
          "metadata": {
            "tags": []
          },
          "execution_count": 25
        }
      ]
    },
    {
      "cell_type": "markdown",
      "metadata": {
        "id": "bARt9AlOk-9Z"
      },
      "source": [
        "**Question 2: (same as above but with KNN regressor)**"
      ]
    },
    {
      "cell_type": "code",
      "metadata": {
        "id": "eaoIiUF_tJKD"
      },
      "source": [
        "# pipeline to scale and fit data\r\n",
        "\r\n",
        "pipeline_knn = make_pipeline(\r\n",
        "    StandardScaler(),\r\n",
        "    KNeighborsRegressor(n_neighbors=5)\r\n",
        ")"
      ],
      "execution_count": null,
      "outputs": []
    },
    {
      "cell_type": "code",
      "metadata": {
        "colab": {
          "base_uri": "https://localhost:8080/"
        },
        "id": "d1rxWqNZzojK",
        "outputId": "b787d293-7c32-4bac-fd79-22eb8b9c2a0b"
      },
      "source": [
        "pipeline_knn.fit(X=X_train, y=y_train)"
      ],
      "execution_count": null,
      "outputs": [
        {
          "output_type": "execute_result",
          "data": {
            "text/plain": [
              "Pipeline(memory=None,\n",
              "         steps=[('standardscaler',\n",
              "                 StandardScaler(copy=True, with_mean=True, with_std=True)),\n",
              "                ('kneighborsregressor',\n",
              "                 KNeighborsRegressor(algorithm='auto', leaf_size=30,\n",
              "                                     metric='minkowski', metric_params=None,\n",
              "                                     n_jobs=None, n_neighbors=5, p=2,\n",
              "                                     weights='uniform'))],\n",
              "         verbose=False)"
            ]
          },
          "metadata": {
            "tags": []
          },
          "execution_count": 28
        }
      ]
    },
    {
      "cell_type": "code",
      "metadata": {
        "id": "P7dKN6Edzu85"
      },
      "source": [
        "y_test_knn_ = pipeline_knn.predict(X_test)"
      ],
      "execution_count": null,
      "outputs": []
    },
    {
      "cell_type": "code",
      "metadata": {
        "colab": {
          "base_uri": "https://localhost:8080/"
        },
        "id": "I8_Jh9rrz40W",
        "outputId": "04901f12-050f-4eff-ddb2-4df342c686dd"
      },
      "source": [
        "mean_squared_error(y_test,y_test_knn_)"
      ],
      "execution_count": null,
      "outputs": [
        {
          "output_type": "execute_result",
          "data": {
            "text/plain": [
              "0.2663534162912658"
            ]
          },
          "metadata": {
            "tags": []
          },
          "execution_count": 31
        }
      ]
    },
    {
      "cell_type": "markdown",
      "metadata": {
        "id": "MqIS9OKwGfHR"
      },
      "source": [
        "Based on the MSEs, it seems that the KNN regressor did a slightly better job of predicting the test data than the linear regressor did."
      ]
    },
    {
      "cell_type": "code",
      "metadata": {
        "colab": {
          "base_uri": "https://localhost:8080/"
        },
        "id": "Iww85P6H0EO6",
        "outputId": "ee2e23f6-b8b0-419e-d488-988907a5b7d2"
      },
      "source": [
        "# determining which number of neighbors yields best results based on grid searching algorithm\r\n",
        "\r\n",
        "grid_search = GridSearchCV(pipeline_knn,\r\n",
        "                           param_grid={\r\n",
        "                               \"kneighborsregressor__n_neighbors\": range(1, 20)\r\n",
        "                           },\r\n",
        "                           scoring=\"neg_mean_squared_error\",\r\n",
        "                           cv=5)\r\n",
        "grid_search.fit(X_train, y_train)\r\n",
        "grid_search.best_estimator_"
      ],
      "execution_count": null,
      "outputs": [
        {
          "output_type": "execute_result",
          "data": {
            "text/plain": [
              "Pipeline(memory=None,\n",
              "         steps=[('standardscaler',\n",
              "                 StandardScaler(copy=True, with_mean=True, with_std=True)),\n",
              "                ('kneighborsregressor',\n",
              "                 KNeighborsRegressor(algorithm='auto', leaf_size=30,\n",
              "                                     metric='minkowski', metric_params=None,\n",
              "                                     n_jobs=None, n_neighbors=19, p=2,\n",
              "                                     weights='uniform'))],\n",
              "         verbose=False)"
            ]
          },
          "metadata": {
            "tags": []
          },
          "execution_count": 32
        }
      ]
    },
    {
      "cell_type": "code",
      "metadata": {
        "colab": {
          "base_uri": "https://localhost:8080/"
        },
        "id": "_eUof8JAJUNR",
        "outputId": "3d7fdd8a-a297-446c-f794-e751fbb4e05f"
      },
      "source": [
        "# this block determines what set of features will yield most optimal results under n=19 neighbors.\r\n",
        "\r\n",
        "def get_cv_error(features):\r\n",
        "  temp = features.copy()\r\n",
        "  ct = make_column_transformer(\r\n",
        "    (StandardScaler(), temp),\r\n",
        "    remainder=\"drop\"\r\n",
        "  )\r\n",
        "  \r\n",
        "  # define pipeline\r\n",
        "  pipeline = make_pipeline(\r\n",
        "    ct,\r\n",
        "    KNeighborsRegressor(n_neighbors=19)\r\n",
        "  ) \r\n",
        "  pipeline\r\n",
        "  # calculate errors from cross-validation\r\n",
        "  cv_errs = -cross_val_score(pipeline, X=df_master[features], \r\n",
        "                             y=df_master.log_star_number,\r\n",
        "                             scoring=\"neg_mean_squared_error\", cv=5)\r\n",
        "  # calculate average of the cross-validation errors\r\n",
        "  return cv_errs.mean()\r\n",
        "\r\n",
        "# calculate and store errors for different feature sets\r\n",
        "errs = pd.Series()\r\n",
        "for features in [['TypeScript','JavaScript','HTML','C++','Python','C','Java','Swift','Scala'],\r\n",
        "                 ['log_commit_count', 'TypeScript','JavaScript','HTML','C++','Python','C','Java','Swift','Scala'],\r\n",
        "                 ['log_pull_requests', 'TypeScript','JavaScript','HTML','C++','Python','C','Java','Swift','Scala'],\r\n",
        "                 ['log_commit_count','log_pull_requests', 'TypeScript','JavaScript','HTML','C++','Python','C','Java','Swift','Scala'],\r\n",
        "                 ['log_weekly_commits', 'TypeScript','JavaScript','HTML','C++','Python','C','Java','Swift','Scala'],\r\n",
        "                 ['log_commit_count','log_pull_requests', 'log_weekly_commits', 'TypeScript','JavaScript','HTML','C++','Python','C','Java','Swift','Scala']]:\r\n",
        "  errs[str(features)] = get_cv_error(features)\r\n",
        "\r\n",
        "errs"
      ],
      "execution_count": null,
      "outputs": [
        {
          "output_type": "stream",
          "text": [
            "/usr/local/lib/python3.7/dist-packages/ipykernel_launcher.py:24: DeprecationWarning: The default dtype for empty Series will be 'object' instead of 'float64' in a future version. Specify a dtype explicitly to silence this warning.\n"
          ],
          "name": "stderr"
        },
        {
          "output_type": "execute_result",
          "data": {
            "text/plain": [
              "['TypeScript', 'JavaScript', 'HTML', 'C++', 'Python', 'C', 'Java', 'Swift', 'Scala']                                                                   0.322616\n",
              "['log_commit_count', 'TypeScript', 'JavaScript', 'HTML', 'C++', 'Python', 'C', 'Java', 'Swift', 'Scala']                                               0.307927\n",
              "['log_pull_requests', 'TypeScript', 'JavaScript', 'HTML', 'C++', 'Python', 'C', 'Java', 'Swift', 'Scala']                                              0.309865\n",
              "['log_commit_count', 'log_pull_requests', 'TypeScript', 'JavaScript', 'HTML', 'C++', 'Python', 'C', 'Java', 'Swift', 'Scala']                          0.304517\n",
              "['log_weekly_commits', 'TypeScript', 'JavaScript', 'HTML', 'C++', 'Python', 'C', 'Java', 'Swift', 'Scala']                                             0.313721\n",
              "['log_commit_count', 'log_pull_requests', 'log_weekly_commits', 'TypeScript', 'JavaScript', 'HTML', 'C++', 'Python', 'C', 'Java', 'Swift', 'Scala']    0.305173\n",
              "dtype: float64"
            ]
          },
          "metadata": {
            "tags": []
          },
          "execution_count": 48
        }
      ]
    },
    {
      "cell_type": "markdown",
      "metadata": {
        "id": "im9WhBjIK9nj"
      },
      "source": [
        "The analysis shows that omitting just weekly commits will slightly improve the model (from .3051 to .3045), but not by a big amount."
      ]
    },
    {
      "cell_type": "code",
      "metadata": {
        "colab": {
          "base_uri": "https://localhost:8080/"
        },
        "id": "WzbgyCnT1gtt",
        "outputId": "d4034c64-9ee0-4c8c-9bc3-794354d9aa0d"
      },
      "source": [
        "pipeline_knn2 = make_pipeline(\r\n",
        "    StandardScaler(),\r\n",
        "    KNeighborsRegressor(n_neighbors=19)\r\n",
        ")\r\n",
        "\r\n",
        "pipeline_knn2.fit(X=X_train, y=y_train)"
      ],
      "execution_count": null,
      "outputs": [
        {
          "output_type": "execute_result",
          "data": {
            "text/plain": [
              "Pipeline(memory=None,\n",
              "         steps=[('standardscaler',\n",
              "                 StandardScaler(copy=True, with_mean=True, with_std=True)),\n",
              "                ('kneighborsregressor',\n",
              "                 KNeighborsRegressor(algorithm='auto', leaf_size=30,\n",
              "                                     metric='minkowski', metric_params=None,\n",
              "                                     n_jobs=None, n_neighbors=19, p=2,\n",
              "                                     weights='uniform'))],\n",
              "         verbose=False)"
            ]
          },
          "metadata": {
            "tags": []
          },
          "execution_count": 33
        }
      ]
    },
    {
      "cell_type": "code",
      "metadata": {
        "colab": {
          "base_uri": "https://localhost:8080/"
        },
        "id": "GIdteo791tXs",
        "outputId": "dc59aa90-401e-46d8-9ea1-a76739513158"
      },
      "source": [
        "y_test_knn_2 = pipeline_knn2.predict(X_test)\r\n",
        "\r\n",
        "mean_squared_error(y_test,y_test_knn_2)"
      ],
      "execution_count": null,
      "outputs": [
        {
          "output_type": "execute_result",
          "data": {
            "text/plain": [
              "0.248194320496114"
            ]
          },
          "metadata": {
            "tags": []
          },
          "execution_count": 35
        }
      ]
    },
    {
      "cell_type": "markdown",
      "metadata": {
        "id": "BPbMurhi2mNf"
      },
      "source": [
        "**Question 3: K-Means clustering**"
      ]
    },
    {
      "cell_type": "code",
      "metadata": {
        "colab": {
          "base_uri": "https://localhost:8080/"
        },
        "id": "V4NgeumL4qZw",
        "outputId": "e8fe90f9-5aec-4be7-d0b5-703f975fb6a5"
      },
      "source": [
        "# scaling and fitting data into K-Means clustering.\r\n",
        "\r\n",
        "pipeline_kmeans = make_pipeline(\r\n",
        "    StandardScaler(),\r\n",
        "    KMeans(n_clusters=2)\r\n",
        ")\r\n",
        "\r\n",
        "pipeline_kmeans.fit(X_train)"
      ],
      "execution_count": null,
      "outputs": [
        {
          "output_type": "execute_result",
          "data": {
            "text/plain": [
              "Pipeline(memory=None,\n",
              "         steps=[('standardscaler',\n",
              "                 StandardScaler(copy=True, with_mean=True, with_std=True)),\n",
              "                ('kmeans',\n",
              "                 KMeans(algorithm='auto', copy_x=True, init='k-means++',\n",
              "                        max_iter=300, n_clusters=2, n_init=10, n_jobs=None,\n",
              "                        precompute_distances='auto', random_state=None,\n",
              "                        tol=0.0001, verbose=0))],\n",
              "         verbose=False)"
            ]
          },
          "metadata": {
            "tags": []
          },
          "execution_count": 43
        }
      ]
    },
    {
      "cell_type": "code",
      "metadata": {
        "id": "SUGn4BgZ9GgA"
      },
      "source": [
        "clusters = pipeline_kmeans['kmeans'].labels_"
      ],
      "execution_count": null,
      "outputs": []
    },
    {
      "cell_type": "code",
      "metadata": {
        "colab": {
          "base_uri": "https://localhost:8080/"
        },
        "id": "_wfwG7XG9dBN",
        "outputId": "f2d498c0-da01-4406-85b3-8875e5d4c58a"
      },
      "source": [
        "pipeline_kmeans['kmeans'].cluster_centers_"
      ],
      "execution_count": null,
      "outputs": [
        {
          "output_type": "execute_result",
          "data": {
            "text/plain": [
              "array([[ 0.67996203,  0.67563265,  0.67490409,  0.25009975,  0.27932778,\n",
              "         0.46067398,  0.38563237,  0.5433744 ,  0.40862722,  0.16021578,\n",
              "         0.04923233,  0.19875246],\n",
              "       [-0.69833938, -0.69389299, -0.69314474, -0.2568592 , -0.28687718,\n",
              "        -0.47312463, -0.39605487, -0.5580602 , -0.4196712 , -0.16454594,\n",
              "        -0.05056294, -0.20412415]])"
            ]
          },
          "metadata": {
            "tags": []
          },
          "execution_count": 45
        }
      ]
    },
    {
      "cell_type": "code",
      "metadata": {
        "id": "1mLoj1iH90ON",
        "colab": {
          "base_uri": "https://localhost:8080/"
        },
        "outputId": "6b2c9c2b-9f75-448e-adb2-a01ad9e4620f"
      },
      "source": [
        "clusters_c = pd.Series(clusters).map({\r\n",
        "    0: \"blue\", # white is blue so we can see it on the scatterplot. \r\n",
        "    1: \"red\"\r\n",
        "    #2: \"green\"\r\n",
        "})\r\n",
        "\r\n",
        "clusters_c.value_counts()"
      ],
      "execution_count": null,
      "outputs": [
        {
          "output_type": "execute_result",
          "data": {
            "text/plain": [
              "blue    38\n",
              "red     37\n",
              "dtype: int64"
            ]
          },
          "metadata": {
            "tags": []
          },
          "execution_count": 46
        }
      ]
    },
    {
      "cell_type": "code",
      "metadata": {
        "colab": {
          "base_uri": "https://localhost:8080/",
          "height": 298
        },
        "id": "eNUqMR50_rYs",
        "outputId": "7e9108e2-b702-43e9-cadb-989c92835fe9"
      },
      "source": [
        "X_train.plot.scatter(x=\"log_commit_count\", y=\"log_pull_requests\", \r\n",
        "                     c=clusters_c, marker=\"x\", alpha=.5)"
      ],
      "execution_count": null,
      "outputs": [
        {
          "output_type": "execute_result",
          "data": {
            "text/plain": [
              "<matplotlib.axes._subplots.AxesSubplot at 0x7fba5fba1750>"
            ]
          },
          "metadata": {
            "tags": []
          },
          "execution_count": 47
        },
        {
          "output_type": "display_data",
          "data": {
            "image/png": "[encoded data removed]",
            "text/plain": [
              "<Figure size 432x288 with 1 Axes>"
            ]
          },
          "metadata": {
            "tags": [],
            "needs_background": "light"
          }
        }
      ]
    },
    {
      "cell_type": "code",
      "metadata": {
        "id": "YB8q_ABeJM4-"
      },
      "source": [
        ""
      ],
      "execution_count": null,
      "outputs": []
    }
  ]
}